{
 "cells": [
  {
   "cell_type": "code",
   "execution_count": 2,
   "id": "aa481684",
   "metadata": {},
   "outputs": [],
   "source": [
    "#import libraries \n",
    "\n",
    "import pandas as pd\n",
    "import numpy as np\n",
    "import seaborn as sns\n",
    "import matplotlib.pyplot as plt"
   ]
  },
  {
   "cell_type": "code",
   "execution_count": 3,
   "id": "5423e302",
   "metadata": {},
   "outputs": [
    {
     "data": {
      "text/html": [
       "<div>\n",
       "<style scoped>\n",
       "    .dataframe tbody tr th:only-of-type {\n",
       "        vertical-align: middle;\n",
       "    }\n",
       "\n",
       "    .dataframe tbody tr th {\n",
       "        vertical-align: top;\n",
       "    }\n",
       "\n",
       "    .dataframe thead th {\n",
       "        text-align: right;\n",
       "    }\n",
       "</style>\n",
       "<table border=\"1\" class=\"dataframe\">\n",
       "  <thead>\n",
       "    <tr style=\"text-align: right;\">\n",
       "      <th></th>\n",
       "      <th>DATE</th>\n",
       "      <th>DAY</th>\n",
       "      <th>FLIGHT</th>\n",
       "      <th>TIME SCHEDULED</th>\n",
       "      <th>TO</th>\n",
       "      <th>TIME OF DEPARTURE</th>\n",
       "      <th>STATUS</th>\n",
       "    </tr>\n",
       "  </thead>\n",
       "  <tbody>\n",
       "    <tr>\n",
       "      <th>0</th>\n",
       "      <td>2024-01-28 00:00:00</td>\n",
       "      <td>domingo</td>\n",
       "      <td>FR1015</td>\n",
       "      <td>05:40:00</td>\n",
       "      <td>PALERMO</td>\n",
       "      <td>05:43:00</td>\n",
       "      <td>ON TIME</td>\n",
       "    </tr>\n",
       "    <tr>\n",
       "      <th>1</th>\n",
       "      <td>2024-01-28 00:00:00</td>\n",
       "      <td>domingo</td>\n",
       "      <td>NaN</td>\n",
       "      <td>05:45:00</td>\n",
       "      <td>NUREMBERG</td>\n",
       "      <td>06:13:00</td>\n",
       "      <td>DELAY</td>\n",
       "    </tr>\n",
       "    <tr>\n",
       "      <th>2</th>\n",
       "      <td>2024-01-28 00:00:00</td>\n",
       "      <td>domingo</td>\n",
       "      <td>FR5914</td>\n",
       "      <td>05:45:00</td>\n",
       "      <td>NAPLES</td>\n",
       "      <td>05:52:00</td>\n",
       "      <td>ON TIME</td>\n",
       "    </tr>\n",
       "    <tr>\n",
       "      <th>3</th>\n",
       "      <td>2024-01-28 00:00:00</td>\n",
       "      <td>domingo</td>\n",
       "      <td>FR2770</td>\n",
       "      <td>05:50:00</td>\n",
       "      <td>BARI</td>\n",
       "      <td>06:06:00</td>\n",
       "      <td>DELAY</td>\n",
       "    </tr>\n",
       "    <tr>\n",
       "      <th>4</th>\n",
       "      <td>2024-01-28 00:00:00</td>\n",
       "      <td>domingo</td>\n",
       "      <td>FR5970</td>\n",
       "      <td>06:00:00</td>\n",
       "      <td>MALTA</td>\n",
       "      <td>06:20:00</td>\n",
       "      <td>DELAY</td>\n",
       "    </tr>\n",
       "    <tr>\n",
       "      <th>...</th>\n",
       "      <td>...</td>\n",
       "      <td>...</td>\n",
       "      <td>...</td>\n",
       "      <td>...</td>\n",
       "      <td>...</td>\n",
       "      <td>...</td>\n",
       "      <td>...</td>\n",
       "    </tr>\n",
       "    <tr>\n",
       "      <th>1503</th>\n",
       "      <td>2024-03-25 00:00:00</td>\n",
       "      <td>lunes</td>\n",
       "      <td>FR1070</td>\n",
       "      <td>19:55:00</td>\n",
       "      <td>CATANIA</td>\n",
       "      <td>21:34</td>\n",
       "      <td>DELAY</td>\n",
       "    </tr>\n",
       "    <tr>\n",
       "      <th>1504</th>\n",
       "      <td>2024-03-25 00:00:00</td>\n",
       "      <td>lunes</td>\n",
       "      <td>FR5936</td>\n",
       "      <td>20:35:00</td>\n",
       "      <td>NAPLES</td>\n",
       "      <td>21:12</td>\n",
       "      <td>DELAY</td>\n",
       "    </tr>\n",
       "    <tr>\n",
       "      <th>1505</th>\n",
       "      <td>2024-03-25 00:00:00</td>\n",
       "      <td>lunes</td>\n",
       "      <td>FR9689</td>\n",
       "      <td>20:50:00</td>\n",
       "      <td>BRUSSELS</td>\n",
       "      <td>21:05</td>\n",
       "      <td>ON TIME</td>\n",
       "    </tr>\n",
       "    <tr>\n",
       "      <th>1506</th>\n",
       "      <td>2024-03-25 00:00:00</td>\n",
       "      <td>lunes</td>\n",
       "      <td>FR1436</td>\n",
       "      <td>20:55:00</td>\n",
       "      <td>LAMEZIA</td>\n",
       "      <td>22:12</td>\n",
       "      <td>DELAY</td>\n",
       "    </tr>\n",
       "    <tr>\n",
       "      <th>1507</th>\n",
       "      <td>2024-03-25 00:00:00</td>\n",
       "      <td>lunes</td>\n",
       "      <td>FR8718</td>\n",
       "      <td>21:45:00</td>\n",
       "      <td>LONDON</td>\n",
       "      <td>22:39</td>\n",
       "      <td>DELAY</td>\n",
       "    </tr>\n",
       "  </tbody>\n",
       "</table>\n",
       "<p>1508 rows × 7 columns</p>\n",
       "</div>"
      ],
      "text/plain": [
       "                     DATE      DAY  FLIGHT TIME SCHEDULED          TO  \\\n",
       "0     2024-01-28 00:00:00  domingo  FR1015       05:40:00    PALERMO    \n",
       "1     2024-01-28 00:00:00  domingo     NaN       05:45:00  NUREMBERG    \n",
       "2     2024-01-28 00:00:00  domingo  FR5914       05:45:00     NAPLES    \n",
       "3     2024-01-28 00:00:00  domingo  FR2770       05:50:00       BARI    \n",
       "4     2024-01-28 00:00:00  domingo  FR5970       06:00:00      MALTA    \n",
       "...                   ...      ...     ...            ...         ...   \n",
       "1503  2024-03-25 00:00:00    lunes  FR1070       19:55:00    CATANIA    \n",
       "1504  2024-03-25 00:00:00    lunes  FR5936       20:35:00     NAPLES    \n",
       "1505  2024-03-25 00:00:00    lunes  FR9689       20:50:00   BRUSSELS    \n",
       "1506  2024-03-25 00:00:00    lunes  FR1436       20:55:00   LAMEZIA     \n",
       "1507  2024-03-25 00:00:00    lunes  FR8718       21:45:00     LONDON    \n",
       "\n",
       "     TIME OF DEPARTURE   STATUS   \n",
       "0              05:43:00  ON TIME  \n",
       "1              06:13:00    DELAY  \n",
       "2              05:52:00  ON TIME  \n",
       "3              06:06:00    DELAY  \n",
       "4              06:20:00    DELAY  \n",
       "...                 ...      ...  \n",
       "1503              21:34    DELAY  \n",
       "1504              21:12    DELAY  \n",
       "1505              21:05  ON TIME  \n",
       "1506              22:12    DELAY  \n",
       "1507              22:39    DELAY  \n",
       "\n",
       "[1508 rows x 7 columns]"
      ]
     },
     "execution_count": 3,
     "metadata": {},
     "output_type": "execute_result"
    }
   ],
   "source": [
    "df = pd.read_excel(\"Departures Milan RA.xlsx\")\n",
    "df"
   ]
  },
  {
   "cell_type": "code",
   "execution_count": 4,
   "id": "95ea92c6",
   "metadata": {},
   "outputs": [
    {
     "data": {
      "text/plain": [
       "(1508, 7)"
      ]
     },
     "execution_count": 4,
     "metadata": {},
     "output_type": "execute_result"
    }
   ],
   "source": [
    "df.shape"
   ]
  },
  {
   "cell_type": "code",
   "execution_count": 5,
   "id": "aa3027e4",
   "metadata": {},
   "outputs": [
    {
     "data": {
      "text/html": [
       "<div>\n",
       "<style scoped>\n",
       "    .dataframe tbody tr th:only-of-type {\n",
       "        vertical-align: middle;\n",
       "    }\n",
       "\n",
       "    .dataframe tbody tr th {\n",
       "        vertical-align: top;\n",
       "    }\n",
       "\n",
       "    .dataframe thead th {\n",
       "        text-align: right;\n",
       "    }\n",
       "</style>\n",
       "<table border=\"1\" class=\"dataframe\">\n",
       "  <thead>\n",
       "    <tr style=\"text-align: right;\">\n",
       "      <th></th>\n",
       "      <th>DATE</th>\n",
       "      <th>DAY</th>\n",
       "      <th>FLIGHT</th>\n",
       "      <th>TIME SCHEDULED</th>\n",
       "      <th>TO</th>\n",
       "      <th>TIME OF DEPARTURE</th>\n",
       "      <th>STATUS</th>\n",
       "    </tr>\n",
       "  </thead>\n",
       "  <tbody>\n",
       "    <tr>\n",
       "      <th>count</th>\n",
       "      <td>1508</td>\n",
       "      <td>1508</td>\n",
       "      <td>1500</td>\n",
       "      <td>1508</td>\n",
       "      <td>1508</td>\n",
       "      <td>1508</td>\n",
       "      <td>1508</td>\n",
       "    </tr>\n",
       "    <tr>\n",
       "      <th>unique</th>\n",
       "      <td>42</td>\n",
       "      <td>7</td>\n",
       "      <td>309</td>\n",
       "      <td>307</td>\n",
       "      <td>128</td>\n",
       "      <td>600</td>\n",
       "      <td>2</td>\n",
       "    </tr>\n",
       "    <tr>\n",
       "      <th>top</th>\n",
       "      <td>09/02/2024</td>\n",
       "      <td>lunes</td>\n",
       "      <td>FR7540</td>\n",
       "      <td>05:45:00</td>\n",
       "      <td>LONDON</td>\n",
       "      <td>20:00</td>\n",
       "      <td>ON TIME</td>\n",
       "    </tr>\n",
       "    <tr>\n",
       "      <th>freq</th>\n",
       "      <td>91</td>\n",
       "      <td>306</td>\n",
       "      <td>20</td>\n",
       "      <td>29</td>\n",
       "      <td>58</td>\n",
       "      <td>25</td>\n",
       "      <td>1118</td>\n",
       "    </tr>\n",
       "  </tbody>\n",
       "</table>\n",
       "</div>"
      ],
      "text/plain": [
       "              DATE    DAY  FLIGHT TIME SCHEDULED       TO TIME OF DEPARTURE   \\\n",
       "count         1508   1508    1500           1508     1508               1508   \n",
       "unique          42      7     309            307      128                600   \n",
       "top     09/02/2024  lunes  FR7540       05:45:00  LONDON               20:00   \n",
       "freq            91    306      20             29       58                 25   \n",
       "\n",
       "        STATUS   \n",
       "count      1508  \n",
       "unique        2  \n",
       "top     ON TIME  \n",
       "freq       1118  "
      ]
     },
     "execution_count": 5,
     "metadata": {},
     "output_type": "execute_result"
    }
   ],
   "source": [
    "df.describe()"
   ]
  },
  {
   "cell_type": "code",
   "execution_count": 6,
   "id": "60e3258a",
   "metadata": {},
   "outputs": [
    {
     "data": {
      "text/plain": [
       "DATE                  object\n",
       "DAY                   object\n",
       "FLIGHT                object\n",
       "TIME SCHEDULED        object\n",
       "TO                    object\n",
       "TIME OF DEPARTURE     object\n",
       "STATUS                object\n",
       "dtype: object"
      ]
     },
     "execution_count": 6,
     "metadata": {},
     "output_type": "execute_result"
    }
   ],
   "source": [
    "df.dtypes"
   ]
  },
  {
   "cell_type": "code",
   "execution_count": 7,
   "id": "fe8a8608",
   "metadata": {},
   "outputs": [
    {
     "data": {
      "text/plain": [
       "Index(['DATE', 'DAY', 'FLIGHT', 'TIME SCHEDULED', 'TO', 'TIME OF DEPARTURE ',\n",
       "       'STATUS '],\n",
       "      dtype='object')"
      ]
     },
     "execution_count": 7,
     "metadata": {},
     "output_type": "execute_result"
    }
   ],
   "source": [
    "df.columns"
   ]
  },
  {
   "cell_type": "code",
   "execution_count": 8,
   "id": "04a31966",
   "metadata": {},
   "outputs": [
    {
     "data": {
      "text/html": [
       "<div>\n",
       "<style scoped>\n",
       "    .dataframe tbody tr th:only-of-type {\n",
       "        vertical-align: middle;\n",
       "    }\n",
       "\n",
       "    .dataframe tbody tr th {\n",
       "        vertical-align: top;\n",
       "    }\n",
       "\n",
       "    .dataframe thead th {\n",
       "        text-align: right;\n",
       "    }\n",
       "</style>\n",
       "<table border=\"1\" class=\"dataframe\">\n",
       "  <thead>\n",
       "    <tr style=\"text-align: right;\">\n",
       "      <th></th>\n",
       "      <th>DATE</th>\n",
       "      <th>DAY</th>\n",
       "      <th>FLIGHT</th>\n",
       "      <th>TIME SCHEDULED</th>\n",
       "      <th>TO</th>\n",
       "      <th>TIME OF DEPARTURE</th>\n",
       "      <th>STATUS</th>\n",
       "    </tr>\n",
       "  </thead>\n",
       "  <tbody>\n",
       "    <tr>\n",
       "      <th>0</th>\n",
       "      <td>2024-01-28 00:00:00</td>\n",
       "      <td>domingo</td>\n",
       "      <td>FR1015</td>\n",
       "      <td>05:40:00</td>\n",
       "      <td>PALERMO</td>\n",
       "      <td>05:43:00</td>\n",
       "      <td>ON TIME</td>\n",
       "    </tr>\n",
       "    <tr>\n",
       "      <th>1</th>\n",
       "      <td>2024-01-28 00:00:00</td>\n",
       "      <td>domingo</td>\n",
       "      <td>NaN</td>\n",
       "      <td>05:45:00</td>\n",
       "      <td>NUREMBERG</td>\n",
       "      <td>06:13:00</td>\n",
       "      <td>DELAY</td>\n",
       "    </tr>\n",
       "    <tr>\n",
       "      <th>2</th>\n",
       "      <td>2024-01-28 00:00:00</td>\n",
       "      <td>domingo</td>\n",
       "      <td>FR5914</td>\n",
       "      <td>05:45:00</td>\n",
       "      <td>NAPLES</td>\n",
       "      <td>05:52:00</td>\n",
       "      <td>ON TIME</td>\n",
       "    </tr>\n",
       "    <tr>\n",
       "      <th>3</th>\n",
       "      <td>2024-01-28 00:00:00</td>\n",
       "      <td>domingo</td>\n",
       "      <td>FR2770</td>\n",
       "      <td>05:50:00</td>\n",
       "      <td>BARI</td>\n",
       "      <td>06:06:00</td>\n",
       "      <td>DELAY</td>\n",
       "    </tr>\n",
       "    <tr>\n",
       "      <th>4</th>\n",
       "      <td>2024-01-28 00:00:00</td>\n",
       "      <td>domingo</td>\n",
       "      <td>FR5970</td>\n",
       "      <td>06:00:00</td>\n",
       "      <td>MALTA</td>\n",
       "      <td>06:20:00</td>\n",
       "      <td>DELAY</td>\n",
       "    </tr>\n",
       "  </tbody>\n",
       "</table>\n",
       "</div>"
      ],
      "text/plain": [
       "                  DATE      DAY  FLIGHT TIME SCHEDULED          TO  \\\n",
       "0  2024-01-28 00:00:00  domingo  FR1015       05:40:00    PALERMO    \n",
       "1  2024-01-28 00:00:00  domingo     NaN       05:45:00  NUREMBERG    \n",
       "2  2024-01-28 00:00:00  domingo  FR5914       05:45:00     NAPLES    \n",
       "3  2024-01-28 00:00:00  domingo  FR2770       05:50:00       BARI    \n",
       "4  2024-01-28 00:00:00  domingo  FR5970       06:00:00      MALTA    \n",
       "\n",
       "  TIME OF DEPARTURE   STATUS   \n",
       "0           05:43:00  ON TIME  \n",
       "1           06:13:00    DELAY  \n",
       "2           05:52:00  ON TIME  \n",
       "3           06:06:00    DELAY  \n",
       "4           06:20:00    DELAY  "
      ]
     },
     "execution_count": 8,
     "metadata": {},
     "output_type": "execute_result"
    }
   ],
   "source": [
    "df.head()"
   ]
  },
  {
   "cell_type": "code",
   "execution_count": 9,
   "id": "e3821123",
   "metadata": {},
   "outputs": [
    {
     "data": {
      "text/html": [
       "<div>\n",
       "<style scoped>\n",
       "    .dataframe tbody tr th:only-of-type {\n",
       "        vertical-align: middle;\n",
       "    }\n",
       "\n",
       "    .dataframe tbody tr th {\n",
       "        vertical-align: top;\n",
       "    }\n",
       "\n",
       "    .dataframe thead th {\n",
       "        text-align: right;\n",
       "    }\n",
       "</style>\n",
       "<table border=\"1\" class=\"dataframe\">\n",
       "  <thead>\n",
       "    <tr style=\"text-align: right;\">\n",
       "      <th></th>\n",
       "      <th>DATE</th>\n",
       "      <th>DAY</th>\n",
       "      <th>FLIGHT</th>\n",
       "      <th>TIME SCHEDULED</th>\n",
       "      <th>TO</th>\n",
       "      <th>TIME OF DEPARTURE</th>\n",
       "      <th>STATUS</th>\n",
       "    </tr>\n",
       "  </thead>\n",
       "  <tbody>\n",
       "    <tr>\n",
       "      <th>1503</th>\n",
       "      <td>2024-03-25 00:00:00</td>\n",
       "      <td>lunes</td>\n",
       "      <td>FR1070</td>\n",
       "      <td>19:55:00</td>\n",
       "      <td>CATANIA</td>\n",
       "      <td>21:34</td>\n",
       "      <td>DELAY</td>\n",
       "    </tr>\n",
       "    <tr>\n",
       "      <th>1504</th>\n",
       "      <td>2024-03-25 00:00:00</td>\n",
       "      <td>lunes</td>\n",
       "      <td>FR5936</td>\n",
       "      <td>20:35:00</td>\n",
       "      <td>NAPLES</td>\n",
       "      <td>21:12</td>\n",
       "      <td>DELAY</td>\n",
       "    </tr>\n",
       "    <tr>\n",
       "      <th>1505</th>\n",
       "      <td>2024-03-25 00:00:00</td>\n",
       "      <td>lunes</td>\n",
       "      <td>FR9689</td>\n",
       "      <td>20:50:00</td>\n",
       "      <td>BRUSSELS</td>\n",
       "      <td>21:05</td>\n",
       "      <td>ON TIME</td>\n",
       "    </tr>\n",
       "    <tr>\n",
       "      <th>1506</th>\n",
       "      <td>2024-03-25 00:00:00</td>\n",
       "      <td>lunes</td>\n",
       "      <td>FR1436</td>\n",
       "      <td>20:55:00</td>\n",
       "      <td>LAMEZIA</td>\n",
       "      <td>22:12</td>\n",
       "      <td>DELAY</td>\n",
       "    </tr>\n",
       "    <tr>\n",
       "      <th>1507</th>\n",
       "      <td>2024-03-25 00:00:00</td>\n",
       "      <td>lunes</td>\n",
       "      <td>FR8718</td>\n",
       "      <td>21:45:00</td>\n",
       "      <td>LONDON</td>\n",
       "      <td>22:39</td>\n",
       "      <td>DELAY</td>\n",
       "    </tr>\n",
       "  </tbody>\n",
       "</table>\n",
       "</div>"
      ],
      "text/plain": [
       "                     DATE    DAY  FLIGHT TIME SCHEDULED         TO  \\\n",
       "1503  2024-03-25 00:00:00  lunes  FR1070       19:55:00   CATANIA    \n",
       "1504  2024-03-25 00:00:00  lunes  FR5936       20:35:00    NAPLES    \n",
       "1505  2024-03-25 00:00:00  lunes  FR9689       20:50:00  BRUSSELS    \n",
       "1506  2024-03-25 00:00:00  lunes  FR1436       20:55:00  LAMEZIA     \n",
       "1507  2024-03-25 00:00:00  lunes  FR8718       21:45:00    LONDON    \n",
       "\n",
       "     TIME OF DEPARTURE   STATUS   \n",
       "1503              21:34    DELAY  \n",
       "1504              21:12    DELAY  \n",
       "1505              21:05  ON TIME  \n",
       "1506              22:12    DELAY  \n",
       "1507              22:39    DELAY  "
      ]
     },
     "execution_count": 9,
     "metadata": {},
     "output_type": "execute_result"
    }
   ],
   "source": [
    "df.tail()"
   ]
  },
  {
   "cell_type": "markdown",
   "id": "82458a37",
   "metadata": {},
   "source": [
    "## Departure analysis "
   ]
  },
  {
   "cell_type": "code",
   "execution_count": 10,
   "id": "d46386ff",
   "metadata": {},
   "outputs": [
    {
     "data": {
      "text/plain": [
       "Index(['DATE', 'DAY', 'FLIGHT', 'TIME SCHEDULED', 'TO', 'TIME OF DEPARTURE ',\n",
       "       'STATUS '],\n",
       "      dtype='object')"
      ]
     },
     "execution_count": 10,
     "metadata": {},
     "output_type": "execute_result"
    }
   ],
   "source": [
    "df.columns"
   ]
  },
  {
   "cell_type": "code",
   "execution_count": 12,
   "id": "2beee845",
   "metadata": {},
   "outputs": [],
   "source": [
    "df['DAY'] = df['DAY'].str.lower()"
   ]
  },
  {
   "cell_type": "code",
   "execution_count": 26,
   "id": "142daf2b",
   "metadata": {},
   "outputs": [],
   "source": [
    "week_days = {'lunes': 'MONDAY', 'martes': 'TUESDAY', 'miércoles': 'WEDNESDAY', 'jueves': 'THURSDAY', 'viernes': 'FRIDAY', 'sábado': 'SATURDAY', 'domingo': 'SUNDAY'}\n",
    "df['day_name'] = df['DAY'].map(week_days)"
   ]
  },
  {
   "cell_type": "code",
   "execution_count": 27,
   "id": "2fd588c9",
   "metadata": {},
   "outputs": [],
   "source": [
    "flights_per_day = df['day_name'].value_counts()"
   ]
  },
  {
   "cell_type": "code",
   "execution_count": 28,
   "id": "0638cfe2",
   "metadata": {},
   "outputs": [
    {
     "name": "stdout",
     "output_type": "stream",
     "text": [
      "Number of flights per day:\n",
      "day_name\n",
      "MONDAY       306\n",
      "TUESDAY      304\n",
      "SUNDAY       274\n",
      "THURSDAY     216\n",
      "FRIDAY       196\n",
      "WEDNESDAY    127\n",
      "SATURDAY      85\n",
      "Name: count, dtype: int64\n"
     ]
    }
   ],
   "source": [
    "print(\"Number of flights per day:\")\n",
    "print(flights_per_day)"
   ]
  },
  {
   "cell_type": "code",
   "execution_count": 29,
   "id": "c8367f37",
   "metadata": {},
   "outputs": [
    {
     "data": {
      "image/png": "[encoded data removed]",
      "text/plain": [
       "<Figure size 640x480 with 1 Axes>"
      ]
     },
     "metadata": {},
     "output_type": "display_data"
    }
   ],
   "source": [
    "fig, ax = plt.subplots()\n",
    "\n",
    "flights_per_day.plot(kind='bar', ax=ax, color='darkcyan')\n",
    "\n",
    "ax.set_xlabel('Day name')\n",
    "ax.set_ylabel('Flights per day')\n",
    "ax.set_title('Number of flights per day')\n",
    "\n",
    "plt.tight_layout()\n",
    "plt.show()"
   ]
  },
  {
   "cell_type": "code",
   "execution_count": 30,
   "id": "345933b5",
   "metadata": {},
   "outputs": [
    {
     "name": "stdout",
     "output_type": "stream",
     "text": [
      "Top 4 frequency of destination:\n",
      "TO\n",
      "LONDON      58\n",
      "CATANIA     55\n",
      "PALERMO     54\n",
      "LONDON      47\n",
      "Name: count, dtype: int64\n"
     ]
    }
   ],
   "source": [
    "frequency_of_destination = df['TO'].value_counts()\n",
    "\n",
    "top_4_countries = frequency_of_destination.head(4)\n",
    "\n",
    "print(\"Top 4 frequency of destination:\")\n",
    "print(top_4_countries)"
   ]
  },
  {
   "cell_type": "code",
   "execution_count": 31,
   "id": "e1b5ad0a",
   "metadata": {},
   "outputs": [
    {
     "data": {
      "image/png": "[encoded data removed]",
      "text/plain": [
       "<Figure size 640x480 with 1 Axes>"
      ]
     },
     "metadata": {},
     "output_type": "display_data"
    }
   ],
   "source": [
    "fig, ax = plt.subplots()\n",
    "\n",
    "top_4_countries.plot(kind='bar', ax=ax, color='darkcyan')\n",
    "\n",
    "ax.set_xlabel('Day name')\n",
    "ax.set_ylabel('Flights per day')\n",
    "ax.set_title('Number of flights per day')\n",
    "\n",
    "plt.tight_layout()\n",
    "plt.show()"
   ]
  },
  {
   "cell_type": "code",
   "execution_count": 36,
   "id": "8ec6f83d",
   "metadata": {},
   "outputs": [
    {
     "name": "stdout",
     "output_type": "stream",
     "text": [
      "Days with more planes departuring late:\n",
      "lunes\n"
     ]
    }
   ],
   "source": [
    "planes_depature_late_per_day = df[df['STATUS '] == 'DELAY']['DAY'].value_counts()\n",
    "\n",
    "days_late_planes = planes_depature_late_per_day.idxmax()\n",
    "\n",
    "print(\"Days with more planes departuring late:\")\n",
    "print(days_late_planes)"
   ]
  },
  {
   "cell_type": "code",
   "execution_count": 37,
   "id": "fb2d3157",
   "metadata": {},
   "outputs": [
    {
     "name": "stdout",
     "output_type": "stream",
     "text": [
      "The most common time of departuring is: 20:00\n",
      "Most common time frequency: 25\n"
     ]
    }
   ],
   "source": [
    "frequency_departure_time = df['TIME OF DEPARTURE '].value_counts()\n",
    "\n",
    "common_hour = frequency_departure_time.idxmax()\n",
    "\n",
    "frequency_common_hour = frequency_departure_time.max()\n",
    "\n",
    "print(\"The most common time of departuring is:\", common_hour)\n",
    "print(\"Most common time frequency:\", frequency_common_hour)"
   ]
  },
  {
   "cell_type": "code",
   "execution_count": 38,
   "id": "a66b3c3d",
   "metadata": {},
   "outputs": [
    {
     "name": "stdout",
     "output_type": "stream",
     "text": [
      "Percentage of planes departuring late: 25.86%\n"
     ]
    }
   ],
   "source": [
    "total_planes = len(df)\n",
    "\n",
    "planes_departuring_late = (df['STATUS '] == 'DELAY').sum()\n",
    "\n",
    "percentage_departuring_late = (planes_departuring_late / total_planes) * 100\n",
    "\n",
    "print(\"Percentage of planes departuring late: {:.2f}%\".format(percentage_departuring_late))"
   ]
  },
  {
   "cell_type": "code",
   "execution_count": 39,
   "id": "7ab27a78",
   "metadata": {},
   "outputs": [
    {
     "name": "stdout",
     "output_type": "stream",
     "text": [
      "Percentage of planes departuring on time: 74.14%\n"
     ]
    }
   ],
   "source": [
    "total_planes = len(df)\n",
    "\n",
    "planes_departuring_on_time = (df['STATUS '] == 'ON TIME').sum()\n",
    "\n",
    "percentage_departuring_on_time = (planes_departuring_on_time / total_planes) * 100\n",
    "\n",
    "print(\"Percentage of planes departuring on time: {:.2f}%\".format(percentage_departuring_on_time))"
   ]
  },
  {
   "cell_type": "code",
   "execution_count": 40,
   "id": "1b5a1365",
   "metadata": {},
   "outputs": [
    {
     "data": {
      "image/png": "[encoded data removed]",
      "text/plain": [
       "<Figure size 800x800 with 1 Axes>"
      ]
     },
     "metadata": {},
     "output_type": "display_data"
    }
   ],
   "source": [
    "percentage_of_planes_departuring_delay = 25.86\n",
    "percentage_of_planes_departuring_on_time = 74.14\n",
    "\n",
    "label = ['DELAY', 'ON TIME']\n",
    "percentage = [percentage_of_planes_departuring_delay, percentage_of_planes_departuring_on_time]\n",
    "\n",
    "color = ['skyblue', 'thistle']\n",
    "\n",
    "plt.figure(figsize=(8, 8)) \n",
    "plt.pie(percentage, labels=label, autopct='%1.1f%%', colors=color, startangle=140)\n",
    "\n",
    "plt.title(\"Percentage of planes departuring late and on time\")\n",
    "\n",
    "plt.axis('equal')\n",
    "plt.show()"
   ]
  },
  {
   "cell_type": "code",
   "execution_count": 42,
   "id": "d6d307ff",
   "metadata": {},
   "outputs": [
    {
     "data": {
      "text/plain": [
       "DAY\n",
       "domingo       97\n",
       "jueves        40\n",
       "lunes        118\n",
       "martes        44\n",
       "miércoles     41\n",
       "sábado         5\n",
       "viernes       45\n",
       "Name: count, dtype: int64"
      ]
     },
     "execution_count": 42,
     "metadata": {},
     "output_type": "execute_result"
    }
   ],
   "source": [
    "flights_departuring_late = df[df['STATUS '] == 'DELAY']\n",
    "\n",
    "delays_per_day = flights_departuring_late['DAY'].value_counts()\n",
    "\n",
    "delays_per_day = delays_per_day.sort_index()\n",
    "delays_per_day"
   ]
  },
  {
   "cell_type": "code",
   "execution_count": 44,
   "id": "9e02c67f",
   "metadata": {},
   "outputs": [
    {
     "data": {
      "image/png": "[encoded data removed]",
      "text/plain": [
       "<Figure size 1000x600 with 1 Axes>"
      ]
     },
     "metadata": {},
     "output_type": "display_data"
    }
   ],
   "source": [
    "data = {\n",
    "    'DAY': ['friday', 'monday', 'saturday', 'sunday', 'thursday', 'tuesday', 'wednesday'],\n",
    "    'number_delays': [45, 118, 5, 97, 40, 44, 41]\n",
    "}\n",
    "\n",
    "df1 = pd.DataFrame(data)\n",
    "\n",
    "days_with_delays = df1[df1['number_delays'] > 0]  \n",
    "\n",
    "days_with_delays = days_with_delays.drop_duplicates()\n",
    "\n",
    "days_with_delays = days_with_delays.sort_values(by='DAY')\n",
    "\n",
    "plt.figure(figsize=(10, 6))\n",
    "plt.bar(days_with_delays['DAY'], days_with_delays['number_delays'], color='skyblue')\n",
    "\n",
    "plt.title(\"Number of delays per day\")\n",
    "plt.xlabel(\"Day\")\n",
    "plt.ylabel(\"Number of delays\")\n",
    "plt.xticks(rotation=45)  \n",
    "\n",
    "plt.tight_layout()\n",
    "plt.show()"
   ]
  },
  {
   "cell_type": "code",
   "execution_count": 47,
   "id": "8e553d25",
   "metadata": {},
   "outputs": [
    {
     "data": {
      "text/plain": [
       "DAY\n",
       "domingo      177\n",
       "jueves       176\n",
       "lunes        188\n",
       "martes       260\n",
       "miércoles     86\n",
       "sábado        80\n",
       "viernes      151\n",
       "Name: count, dtype: int64"
      ]
     },
     "execution_count": 47,
     "metadata": {},
     "output_type": "execute_result"
    }
   ],
   "source": [
    "flights_departuring_on_time = df[df['STATUS '] == 'ON TIME']\n",
    "\n",
    "on_time_per_day = flights_departuring_on_time['DAY'].value_counts()\n",
    "\n",
    "on_time_per_day = on_time_per_day.sort_index()\n",
    "on_time_per_day"
   ]
  },
  {
   "cell_type": "code",
   "execution_count": 49,
   "id": "f7fe56e7",
   "metadata": {},
   "outputs": [
    {
     "data": {
      "image/png": "[encoded data removed]",
      "text/plain": [
       "<Figure size 1000x600 with 1 Axes>"
      ]
     },
     "metadata": {},
     "output_type": "display_data"
    }
   ],
   "source": [
    "data = {\n",
    "    'DAY': ['friday', 'monday', 'saturday', 'sunday', 'thursday', 'tuesday', 'wednesday'],\n",
    "    'number_on_time': [151, 188, 80, 177, 176, 260, 86]\n",
    "}\n",
    "\n",
    "df2 = pd.DataFrame(data)\n",
    "\n",
    "days_on_time = df2[df2['number_on_time'] > 0]  \n",
    "\n",
    "days_on_time = days_on_time.drop_duplicates()\n",
    "\n",
    "days_on_time = days_on_time.sort_values(by='DAY')\n",
    "\n",
    "plt.figure(figsize=(10, 6))\n",
    "plt.bar(days_on_time['DAY'], days_on_time['number_on_time'], color='thistle')\n",
    "\n",
    "plt.title(\"Number of on time per day\")\n",
    "plt.xlabel(\"Day\")\n",
    "plt.ylabel(\"Number of delay\")\n",
    "plt.xticks(rotation=45)  \n",
    "\n",
    "plt.tight_layout()\n",
    "plt.show()"
   ]
  },
  {
   "cell_type": "code",
   "execution_count": null,
   "id": "efdd836b",
   "metadata": {},
   "outputs": [],
   "source": []
  }
 ],
 "metadata": {
  "kernelspec": {
   "display_name": "Python 3 (ipykernel)",
   "language": "python",
   "name": "python3"
  },
  "language_info": {
   "codemirror_mode": {
    "name": "ipython",
    "version": 3
   },
   "file_extension": ".py",
   "mimetype": "text/x-python",
   "name": "python",
   "nbconvert_exporter": "python",
   "pygments_lexer": "ipython3",
   "version": "3.11.5"
  }
 },
 "nbformat": 4,
 "nbformat_minor": 5
}
